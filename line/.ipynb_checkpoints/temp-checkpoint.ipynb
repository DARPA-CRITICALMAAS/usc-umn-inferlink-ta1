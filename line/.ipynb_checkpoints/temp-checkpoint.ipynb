{
 "cells": [
  {
   "cell_type": "code",
   "execution_count": 1,
   "id": "36ab742d-b8eb-44b2-ad51-bbf9086950c7",
   "metadata": {},
   "outputs": [],
   "source": [
    "import json\n",
    "import os\n",
    "from shapely.geometry import LineString, MultiLineString\n",
    "from helper.write_cdr_geojson import write_geojson_cdr"
   ]
  },
  {
   "cell_type": "code",
   "execution_count": 2,
   "id": "b29c0ad9-d2e6-46b8-a4e9-488607171e5c",
   "metadata": {},
   "outputs": [],
   "source": [
    "input_path = \"/cdr/outputs/68f172614279119920d90465243d321b3b8cbb0e9e776e5078e159f9064940da/line_extract/68f172614279119920d90465243d321b3b8cbb0e9e776e5078e159f9064940da_fault_line.geojson\"\n",
    "with open(input_path, 'r') as f:\n",
    "    data = json.load(f)\n",
    "output_path = '/cdr/outputs/68f172614279119920d90465243d321b3b8cbb0e9e776e5078e159f9064940da/line_extract/68f172614279119920d90465243d321b3b8cbb0e9e776e5078e159f9064940da/68f172614279119920d90465243d321b3b8cbb0e9e776e5078e159f9064940da_fault_line.geojson'"
   ]
  },
  {
   "cell_type": "code",
   "execution_count": 3,
   "id": "f4cba4bb-4fac-4c7d-a013-44d72e7d74c1",
   "metadata": {},
   "outputs": [
    {
     "ename": "FileNotFoundError",
     "evalue": "[Errno 2] No such file or directory: '/cdr/outputs/43490e673c730d9b3c27700f3e6364c56c8169811b241d628ef086fda959ad91/line_extract/68f172614279119920d90465243d321b3b8cbb0e9e776e5078e159f9064940da/68f172614279119920d90465243d321b3b8cbb0e9e776e5078e159f9064940da_fault_line.geojson'",
     "output_type": "error",
     "traceback": [
      "\u001b[0;31m---------------------------------------------------------------------------\u001b[0m",
      "\u001b[0;31mFileNotFoundError\u001b[0m                         Traceback (most recent call last)",
      "Cell \u001b[0;32mIn[3], line 14\u001b[0m\n\u001b[1;32m     12\u001b[0m dash_pattern_dict \u001b[38;5;241m=\u001b[39m {}\n\u001b[1;32m     13\u001b[0m dash_pattern_dict[\u001b[38;5;124m'\u001b[39m\u001b[38;5;124msolid\u001b[39m\u001b[38;5;124m'\u001b[39m] \u001b[38;5;241m=\u001b[39m geometries\n\u001b[0;32m---> 14\u001b[0m \u001b[43mwrite_geojson_cdr\u001b[49m\u001b[43m(\u001b[49m\u001b[43moutput_path\u001b[49m\u001b[43m,\u001b[49m\u001b[43m \u001b[49m\u001b[43mdash_pattern_dict\u001b[49m\u001b[43m,\u001b[49m\u001b[43m \u001b[49m\u001b[43mlegend_text\u001b[49m\u001b[38;5;241;43m=\u001b[39;49m\u001b[38;5;28;43;01mNone\u001b[39;49;00m\u001b[43m)\u001b[49m    \n",
      "File \u001b[0;32m/cdr/repos/usc-umn-inferlink-ta1/line/helper/write_cdr_geojson.py:66\u001b[0m, in \u001b[0;36mwrite_geojson_cdr\u001b[0;34m(output_geojson_path, all_lines, legend_text, feature_name)\u001b[0m\n\u001b[1;32m     53\u001b[0m             line_features\u001b[38;5;241m.\u001b[39mappend(line_feat)\n\u001b[1;32m     55\u001b[0m cdr_line_data \u001b[38;5;241m=\u001b[39m {\n\u001b[1;32m     56\u001b[0m     \u001b[38;5;124m\"\u001b[39m\u001b[38;5;124mid\u001b[39m\u001b[38;5;124m\"\u001b[39m: \u001b[38;5;124m\"\u001b[39m\u001b[38;5;124m0\u001b[39m\u001b[38;5;124m\"\u001b[39m,\n\u001b[1;32m     57\u001b[0m     \u001b[38;5;124m\"\u001b[39m\u001b[38;5;124mcrs\u001b[39m\u001b[38;5;124m\"\u001b[39m: \u001b[38;5;124m\"\u001b[39m\u001b[38;5;124mCRITICALMAAS:pixel\u001b[39m\u001b[38;5;124m\"\u001b[39m,\n\u001b[0;32m   (...)\u001b[0m\n\u001b[1;32m     64\u001b[0m      }\n\u001b[1;32m     65\u001b[0m }\n\u001b[0;32m---> 66\u001b[0m \u001b[38;5;28;01mwith\u001b[39;00m \u001b[38;5;28;43mopen\u001b[39;49m\u001b[43m(\u001b[49m\u001b[43moutput_geojson_path\u001b[49m\u001b[43m,\u001b[49m\u001b[43m \u001b[49m\u001b[38;5;124;43m\"\u001b[39;49m\u001b[38;5;124;43mw\u001b[39;49m\u001b[38;5;124;43m\"\u001b[39;49m\u001b[43m)\u001b[49m \u001b[38;5;28;01mas\u001b[39;00m f:\n\u001b[1;32m     67\u001b[0m     json\u001b[38;5;241m.\u001b[39mdump(cdr_line_data, f)\n\u001b[1;32m     68\u001b[0m \u001b[38;5;28;01mreturn\u001b[39;00m\n",
      "\u001b[0;31mFileNotFoundError\u001b[0m: [Errno 2] No such file or directory: '/cdr/outputs/43490e673c730d9b3c27700f3e6364c56c8169811b241d628ef086fda959ad91/line_extract/68f172614279119920d90465243d321b3b8cbb0e9e776e5078e159f9064940da/68f172614279119920d90465243d321b3b8cbb0e9e776e5078e159f9064940da_fault_line.geojson'"
     ]
    }
   ],
   "source": [
    "geometries = []\n",
    "for feat in data[\"features\"]:\n",
    "    geom = feat['geometry']\n",
    "    if geom['type'] == 'MultiLineString':\n",
    "        if isinstance(geom[\"coordinates\"][0][0], float):\n",
    "            _geom = MultiLineString([geom[\"coordinates\"]])\n",
    "        else:\n",
    "            _geom = MultiLineString(geom[\"coordinates\"])\n",
    "    else:\n",
    "        _geom = LineString(geom[\"coordinates\"])\n",
    "    geometries.append(_geom)\n",
    "dash_pattern_dict = {}\n",
    "dash_pattern_dict['solid'] = geometries\n",
    "write_geojson_cdr(output_path, dash_pattern_dict, legend_text=None)    "
   ]
  },
  {
   "cell_type": "code",
   "execution_count": null,
   "id": "252137aa-dee4-45e7-90d8-786c7f1d107c",
   "metadata": {},
   "outputs": [],
   "source": []
  }
 ],
 "metadata": {
  "kernelspec": {
   "display_name": "Python 3 (ipykernel)",
   "language": "python",
   "name": "python3"
  },
  "language_info": {
   "codemirror_mode": {
    "name": "ipython",
    "version": 3
   },
   "file_extension": ".py",
   "mimetype": "text/x-python",
   "name": "python",
   "nbconvert_exporter": "python",
   "pygments_lexer": "ipython3",
   "version": "3.10.12"
  }
 },
 "nbformat": 4,
 "nbformat_minor": 5
}
