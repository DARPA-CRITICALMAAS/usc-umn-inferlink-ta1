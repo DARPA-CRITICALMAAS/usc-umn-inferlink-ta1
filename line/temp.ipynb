{
 "cells": [
  {
   "cell_type": "code",
   "execution_count": 1,
   "id": "36ab742d-b8eb-44b2-ad51-bbf9086950c7",
   "metadata": {},
   "outputs": [],
   "source": [
    "import json\n",
    "import os\n",
    "from shapely.geometry import LineString, MultiLineString\n",
    "from helper.write_cdr_geojson import write_geojson_cdr"
   ]
  },
  {
   "cell_type": "code",
   "execution_count": 2,
   "id": "b29c0ad9-d2e6-46b8-a4e9-488607171e5c",
   "metadata": {},
   "outputs": [],
   "source": [
    "input_path = \"/cdr/outputs/68f172614279119920d90465243d321b3b8cbb0e9e776e5078e159f9064940da/line_extract/68f172614279119920d90465243d321b3b8cbb0e9e776e5078e159f9064940da_fault_line.geojson\"\n",
    "with open(input_path, 'r') as f:\n",
    "    data = json.load(f)\n",
    "output_path = '/cdr/outputs/68f172614279119920d90465243d321b3b8cbb0e9e776e5078e159f9064940da/line_extract/68f172614279119920d90465243d321b3b8cbb0e9e776e5078e159f9064940da/68f172614279119920d90465243d321b3b8cbb0e9e776e5078e159f9064940da_fault_line.geojson'"
   ]
  },
  {
   "cell_type": "code",
   "execution_count": 3,
   "id": "f4cba4bb-4fac-4c7d-a013-44d72e7d74c1",
   "metadata": {},
   "outputs": [],
   "source": [
    "geometries = []\n",
    "for feat in data[\"features\"]:\n",
    "    geom = feat['geometry']\n",
    "    if geom['type'] == 'MultiLineString':\n",
    "        if isinstance(geom[\"coordinates\"][0][0], float):\n",
    "            _geom = MultiLineString([geom[\"coordinates\"]])\n",
    "        else:\n",
    "            _geom = MultiLineString(geom[\"coordinates\"])\n",
    "    else:\n",
    "        _geom = LineString(geom[\"coordinates\"])\n",
    "    geometries.append(_geom)\n",
    "dash_pattern_dict = {}\n",
    "dash_pattern_dict['solid'] = geometries\n",
    "write_geojson_cdr(output_path, dash_pattern_dict, legend_text=None)    "
   ]
  },
  {
   "cell_type": "code",
   "execution_count": null,
   "id": "252137aa-dee4-45e7-90d8-786c7f1d107c",
   "metadata": {},
   "outputs": [],
   "source": []
  }
 ],
 "metadata": {
  "kernelspec": {
   "display_name": "Python 3 (ipykernel)",
   "language": "python",
   "name": "python3"
  },
  "language_info": {
   "codemirror_mode": {
    "name": "ipython",
    "version": 3
   },
   "file_extension": ".py",
   "mimetype": "text/x-python",
   "name": "python",
   "nbconvert_exporter": "python",
   "pygments_lexer": "ipython3",
   "version": "3.10.12"
  }
 },
 "nbformat": 4,
 "nbformat_minor": 5
}
